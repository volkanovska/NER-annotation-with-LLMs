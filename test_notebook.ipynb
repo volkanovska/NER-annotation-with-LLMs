{
 "cells": [
  {
   "cell_type": "code",
   "execution_count": 1,
   "id": "ab4db036",
   "metadata": {},
   "outputs": [],
   "source": [
    "# a notebook to test if the files contain the required documents \n",
    "\n",
    "import json \n",
    "import os "
   ]
  },
  {
   "cell_type": "code",
   "execution_count": 12,
   "id": "68eed100",
   "metadata": {},
   "outputs": [],
   "source": [
    "with open(\"/home/elena/NER-annotation-with-LLMs/ccner_tokens_gpt-4o-2024-05-13/raw/similarity_5_raw_output.json\", \"r\", encoding=\"utf-8\") as f:\n",
    "    test = json.load(f)"
   ]
  },
  {
   "cell_type": "code",
   "execution_count": 13,
   "id": "d353d5db",
   "metadata": {},
   "outputs": [
    {
     "name": "stdout",
     "output_type": "stream",
     "text": [
      "An entity is CLIMATE-HAZARDS (hazards with potential negative impact on climate, such as floods, wildfires, droughts, and heatwaves), CLIMATE-IMPACTS (effects of hazards, primarily negative effects on humans, but also negative impacts on livestock such as infectious diseases, food crisis, disruptions, damage, disaster), CLIMATE-ASSETS (objects or services of value to humans that can get destroyed or diminished by climate-hazards, such as health, buildings, infrastructure, and crops or livestock. Examples include cattle, transport infrastructure, air quality, electricity grids etc.), CLIMATE-DATASETS (specific collections of climate data with a name. A climate dataset can be the result of observations or of a model, e.g., as a prediction or reanalysis. The data may be lists, tables, databases, inventories or historical records, where the data dominate over attached code. Some examples include AeroCom, Monitoring Trends in Burn Severity, WorldClim etc.), CLIMATE-GREENHOUSE-GASES (gases that cause heating of the atmosphere, such as carbon dioxide (CO2), methane (CH4), octadecafluorooctane (C 8F18)), CLIMATE-MITIGATIONS (activities to reduce climate change or to better deal with the consequences, such as electric vehicles, bioethanol, carbon tariffs, clothing insulation etc.), CLIMATE-MODELS (specific physical, mathematical, or artificial intelligence objects, nowadays always computer-executable, used to analyze and usually predict climate parameters, such as the Community Climate System Model (CCSM), Dyna - CLUE, Decision Support System for Agrotechnology Transfer), CLIMATE-NATURE (aspects of nature that are not alive, such as oceans, rivers, the atmosphere, winds, and snow), CLIMATE-OBSERVATIONS (climate observation tools, such as satellites, radiospectrometers, rain gauges, wildlife cameras, and questionnaires, with a name. Examples are the DLR Falcon research aircraft, UKCEH Countryside Survey, Analytical Spectral Device ( ASD ) Field Spec Pro etc.), CLIMATE-ORGANISMS (animals, plants, and other organisms that are considered for their own sakes (in contrast to as food for humans) as climate organisms, such as freshwater fish, Joshua trees, herbivorous species etc.), CLIMATE-ORGANIZATIONS (real-world organizations with climate-related interests, such as the Intergovernmental Panel on Climate Change, United Kingdom Meteorological Office, the Kuwait Institute for Scientific Research etc.), CLIMATE-PROBLEM-ORIGINS (problems that describe why the climate is changing, such as fossil fuel, deforestation as well as sectors that can be cited as causes of energy use, such as the transport sector, animal agriculture or fuel imports), CLIMATE-PROPERTIES (properties of the climate itself (not abstract objects like models and datasets) that typically come with values and units, such as solar radiation, annual precipitation, surface roughness, aridity index etc.). \n",
      "\n",
      "Example 1: [[0, 'Further'], [1, 'it'], [2, 'seems'], [3, 'that'], [4, 'the'], [5, 'characteristics'], [6, 'of'], [7, 'aerosols'], [8, 'change'], [9, 'with'], [10, 'the'], [11, 'season'], [12, ','], [13, 'and'], [14, 'hence'], [15, 'the'], [16, 'influence'], [17, 'impact'], [18, 'of'], [19, 'aerosols'], [20, 'over'], [21, 'the'], [22, 'climate'], [23, 'also'], [24, 'varies'], [25, 'according'], [26, 'to'], [27, 'the'], [28, 'season'], [29, '.']]\n",
      "Answer: [['aerosols', 'CLIMATE-NATURE', 7, 7], ['aerosols', 'CLIMATE-NATURE', 19, 19]]\n",
      "\n",
      "Example 2: [[0, 'Consistent'], [1, 'with'], [2, 'previous'], [3, 'studies'], [4, ','], [5, 'we'], [6, 'find'], [7, 'that'], [8, 'basin'], [9, '-'], [10, 'wide'], [11, 'and'], [12, 'landfalling'], [13, 'tropical'], [14, 'cyclone'], [15, 'counts'], [16, 'are'], [17, 'significantly'], [18, 'correlated'], [19, 'with'], [20, 'one'], [21, 'another'], [22, ','], [23, 'lending'], [24, 'further'], [25, 'support'], [26, 'for'], [27, 'the'], [28, 'use'], [29, 'of'], [30, 'paleohurricane'], [31, 'landfall'], [32, 'records'], [33, 'to'], [34, 'infer'], [35, 'long'], [36, '-'], [37, 'term'], [38, 'basin'], [39, '-'], [40, 'wide'], [41, 'tropical'], [42, 'cyclone'], [43, 'trends'], [44, '.']]\n",
      "Answer: [['landfalling', 'CLIMATE-HAZARDS', 12, 12], ['tropical cyclone', 'CLIMATE-HAZARDS', 13, 14], ['paleohurricane', 'CLIMATE-HAZARDS', 30, 30], ['landfall', 'CLIMATE-HAZARDS', 31, 31], ['tropical cyclone', 'CLIMATE-HAZARDS', 41, 42]]\n",
      "\n",
      "Example 3: [[0, 'In'], [1, 'this'], [2, 'study'], [3, ','], [4, 'we'], [5, 'assess'], [6, 'potential'], [7, 'changes'], [8, 'in'], [9, 'fire'], [10, 'weather'], [11, 'conditions'], [12, 'for'], [13, 'the'], [14, 'contiguous'], [15, 'United'], [16, 'States'], [17, 'using'], [18, 'the'], [19, 'Haines'], [20, 'Index'], [21, '('], [22, 'HI'], [23, ')'], [24, ','], [25, 'a'], [26, 'fire'], [27, 'weather'], [28, 'index'], [29, 'that'], [30, 'has'], [31, 'been'], [32, 'employed'], [33, 'operationally'], [34, 'to'], [35, 'detect'], [36, 'atmospheric'], [37, 'conditions'], [38, 'favorable'], [39, 'for'], [40, 'large'], [41, 'and'], [42, 'erratic'], [43, 'fire'], [44, 'behavior'], [45, '.']]\n",
      "Answer: [['fire', 'CLIMATE-HAZARDS', 9, 9], ['Haines Index', 'CLIMATE-PROPERTIES', 19, 20], ['HI', 'CLIMATE-PROPERTIES', 22, 22], ['fire', 'CLIMATE-HAZARDS', 26, 26], ['fire', 'CLIMATE-HAZARDS', 43, 43]]\n",
      "\n",
      "Example 4: [[0, 'Soil'], [1, 'organic'], [2, 'matter'], [3, 'is'], [4, 'a'], [5, 'vast'], [6, 'store'], [7, 'of'], [8, 'carbon'], [9, ','], [10, 'with'], [11, 'a'], [12, 'critical'], [13, 'role'], [14, 'in'], [15, 'the'], [16, 'global'], [17, 'carbon'], [18, 'cycle'], [19, '.']]\n",
      "Answer: [['Soil organic matter', 'CLIMATE-NATURE', 0, 2], ['carbon cycle', 'CLIMATE-NATURE', 17, 18]]\n",
      "\n",
      "Example 5: [[0, 'It'], [1, 'has'], [2, 'determined'], [3, 'urban'], [4, 'form'], [5, 'characteristics'], [6, 'by'], [7, 'either'], [8, 'studying'], [9, 'urban'], [10, 'form'], [11, 'characteristics'], [12, 'separately'], [13, 'or'], [14, 'studying'], [15, 'the'], [16, 'previous'], [17, 'carbon'], [18, 'mitigation'], [19, 'efforts'], [20, 'that'], [21, 'mentioned'], [22, 'some'], [23, 'of'], [24, 'urban'], [25, 'form'], [26, 'characteristics'], [27, '.']]\n",
      "Answer: [['urban form characteristics', 'CLIMATE-MITIGATIONS', 3, 5], ['carbon mitigation', 'CLIMATE-MITIGATIONS', 17, 18], ['urban form characteristics', 'CLIMATE-MITIGATIONS', 24, 26]]\n",
      "\n",
      "Generate ONLY a Python list with a nested list of named entities from the sentence: [[0, 'Particularly'], [1, ','], [2, 'air'], [3, '–'], [4, 'surface'], [5, 'fluxes'], [6, 'of'], [7, 'methane'], [8, 'and'], [9, 'carbon'], [10, 'dioxide'], [11, 'are'], [12, 'of'], [13, 'interest'], [14, 'as'], [15, 'recent'], [16, 'observations'], [17, 'suggest'], [18, 'that'], [19, 'the'], [20, 'vast'], [21, 'stores'], [22, 'of'], [23, 'soil'], [24, 'carbon'], [25, 'found'], [26, 'in'], [27, 'the'], [28, 'Arctic'], [29, 'tundra'], [30, 'are'], [31, 'becoming'], [32, 'more'], [33, 'available'], [34, 'to'], [35, 'release'], [36, 'to'], [37, 'the'], [38, 'atmosphere'], [39, 'in'], [40, 'the'], [41, 'form'], [42, 'of'], [43, 'these'], [44, 'greenhouse'], [45, 'gases'], [46, '.']].\n",
      "one-token entity: [entity, label, index of token in list, index of token of list]\n",
      "multi-token entity: [entity, label, index of first token, index of last token]\n",
      "DO NOT HALLUCINATE\n",
      "\n"
     ]
    }
   ],
   "source": [
    "print(test[0][\"prompt\"])"
   ]
  }
 ],
 "metadata": {
  "kernelspec": {
   "display_name": "nlp_social_good",
   "language": "python",
   "name": "python3"
  },
  "language_info": {
   "codemirror_mode": {
    "name": "ipython",
    "version": 3
   },
   "file_extension": ".py",
   "mimetype": "text/x-python",
   "name": "python",
   "nbconvert_exporter": "python",
   "pygments_lexer": "ipython3",
   "version": "3.10.14"
  }
 },
 "nbformat": 4,
 "nbformat_minor": 5
}
